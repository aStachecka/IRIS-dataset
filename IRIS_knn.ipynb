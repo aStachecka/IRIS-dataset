{
 "cells": [
  {
   "cell_type": "markdown",
   "id": "e5b3b08f-fe50-4f1b-ad58-f61b71bbe7cf",
   "metadata": {},
   "source": [
    "K NEAREST NEIGHBORS - library and no library (from scratch) implementation"
   ]
  },
  {
   "cell_type": "code",
   "execution_count": 13,
   "id": "063131f7-ebf1-424a-a143-0f9e16495dcd",
   "metadata": {},
   "outputs": [],
   "source": [
    "import numpy as np\n",
    "import pandas as pd\n",
    "\n",
    "from sklearn.model_selection import train_test_split\n",
    "from sklearn.neighbors import KNeighborsClassifier"
   ]
  },
  {
   "cell_type": "code",
   "execution_count": 14,
   "id": "de042721-8153-4bce-971d-177637bd5c0e",
   "metadata": {},
   "outputs": [
    {
     "data": {
      "text/html": [
       "<div>\n",
       "<style scoped>\n",
       "    .dataframe tbody tr th:only-of-type {\n",
       "        vertical-align: middle;\n",
       "    }\n",
       "\n",
       "    .dataframe tbody tr th {\n",
       "        vertical-align: top;\n",
       "    }\n",
       "\n",
       "    .dataframe thead th {\n",
       "        text-align: right;\n",
       "    }\n",
       "</style>\n",
       "<table border=\"1\" class=\"dataframe\">\n",
       "  <thead>\n",
       "    <tr style=\"text-align: right;\">\n",
       "      <th></th>\n",
       "      <th>sepal.length</th>\n",
       "      <th>sepal.width</th>\n",
       "      <th>petal.length</th>\n",
       "      <th>petal.width</th>\n",
       "      <th>variety</th>\n",
       "    </tr>\n",
       "  </thead>\n",
       "  <tbody>\n",
       "    <tr>\n",
       "      <th>0</th>\n",
       "      <td>5.1</td>\n",
       "      <td>3.5</td>\n",
       "      <td>1.4</td>\n",
       "      <td>0.2</td>\n",
       "      <td>Setosa</td>\n",
       "    </tr>\n",
       "    <tr>\n",
       "      <th>1</th>\n",
       "      <td>4.9</td>\n",
       "      <td>3.0</td>\n",
       "      <td>1.4</td>\n",
       "      <td>0.2</td>\n",
       "      <td>Setosa</td>\n",
       "    </tr>\n",
       "    <tr>\n",
       "      <th>2</th>\n",
       "      <td>4.7</td>\n",
       "      <td>3.2</td>\n",
       "      <td>1.3</td>\n",
       "      <td>0.2</td>\n",
       "      <td>Setosa</td>\n",
       "    </tr>\n",
       "    <tr>\n",
       "      <th>3</th>\n",
       "      <td>4.6</td>\n",
       "      <td>3.1</td>\n",
       "      <td>1.5</td>\n",
       "      <td>0.2</td>\n",
       "      <td>Setosa</td>\n",
       "    </tr>\n",
       "    <tr>\n",
       "      <th>4</th>\n",
       "      <td>5.0</td>\n",
       "      <td>3.6</td>\n",
       "      <td>1.4</td>\n",
       "      <td>0.2</td>\n",
       "      <td>Setosa</td>\n",
       "    </tr>\n",
       "  </tbody>\n",
       "</table>\n",
       "</div>"
      ],
      "text/plain": [
       "   sepal.length  sepal.width  petal.length  petal.width variety\n",
       "0           5.1          3.5           1.4          0.2  Setosa\n",
       "1           4.9          3.0           1.4          0.2  Setosa\n",
       "2           4.7          3.2           1.3          0.2  Setosa\n",
       "3           4.6          3.1           1.5          0.2  Setosa\n",
       "4           5.0          3.6           1.4          0.2  Setosa"
      ]
     },
     "execution_count": 14,
     "metadata": {},
     "output_type": "execute_result"
    }
   ],
   "source": [
    "data = pd.read_csv(r'D:\\studia\\systemy sztucznej inteligencji\\iris.csv')\n",
    "data.head()"
   ]
  },
  {
   "cell_type": "code",
   "execution_count": 15,
   "id": "d3d1c7e2-5c82-43df-b489-f7a474edb566",
   "metadata": {},
   "outputs": [],
   "source": [
    "from sklearn.preprocessing import LabelEncoder\n",
    "\n",
    "label_encoder = LabelEncoder()\n",
    "data['variety encoded'] = label_encoder.fit_transform(data['variety'])"
   ]
  },
  {
   "cell_type": "code",
   "execution_count": 16,
   "id": "c9c18c92-9e65-4bda-a336-64f1b07e7984",
   "metadata": {},
   "outputs": [],
   "source": [
    "X = data.drop(columns = ['variety encoded', 'variety'])\n",
    "y = data['variety encoded']"
   ]
  },
  {
   "cell_type": "code",
   "execution_count": 31,
   "id": "364c1d4f-8fd0-4f38-b975-96b7e8554f19",
   "metadata": {},
   "outputs": [],
   "source": [
    "from sklearn.preprocessing import StandardScaler\n",
    "\n",
    "standard_scaler = StandardScaler()\n",
    "X_scaled = standard_scaler.fit_transform(X)\n",
    "X_scaled = pd.DataFrame(X_scaled)"
   ]
  },
  {
   "cell_type": "code",
   "execution_count": 41,
   "id": "f5846f7c-c398-42cc-b405-6ba95fae373f",
   "metadata": {},
   "outputs": [],
   "source": [
    "X_train, X_test, y_train, y_test = train_test_split(X_scaled, y, test_size=0.2)"
   ]
  },
  {
   "cell_type": "markdown",
   "id": "552b36c4-4b3f-49ad-a881-e97b9d4c3c06",
   "metadata": {},
   "source": [
    "ACCURACY"
   ]
  },
  {
   "cell_type": "code",
   "execution_count": 43,
   "id": "501ad023-6ce8-4dfc-8649-06d40a61acbc",
   "metadata": {},
   "outputs": [],
   "source": [
    "def accuracy(y_test, y_pred):\n",
    "    corrected = sum(y_test == y_pred)\n",
    "    return corrected/len(y_test)"
   ]
  },
  {
   "cell_type": "markdown",
   "id": "d9162843-1b54-4a50-a6c8-bec3b5ea8c58",
   "metadata": {},
   "source": [
    "KNN - USING LIBRARY"
   ]
  },
  {
   "cell_type": "code",
   "execution_count": 42,
   "id": "8ded8d2e-4f4a-4a20-834f-5f1400f06d0e",
   "metadata": {},
   "outputs": [
    {
     "data": {
      "text/plain": [
       "0.9333333333333333"
      ]
     },
     "execution_count": 42,
     "metadata": {},
     "output_type": "execute_result"
    }
   ],
   "source": [
    "knn_lib = KNeighborsClassifier()\n",
    "\n",
    "knn_lib.fit(X_train, y_train)\n",
    "knn_lib.predict(X_test)\n",
    "knn_lib.score(X_test, y_test)"
   ]
  },
  {
   "cell_type": "markdown",
   "id": "b172c984-59db-49e9-85df-0a4a2c395f27",
   "metadata": {},
   "source": [
    "KNN - BUILD FROM SCRATCH (without library)"
   ]
  },
  {
   "cell_type": "code",
   "execution_count": 61,
   "id": "8e13a591-7408-4f51-ac3c-720ae6e16f69",
   "metadata": {},
   "outputs": [],
   "source": [
    "class KNN:\n",
    "    def __init__(self, k = 3):\n",
    "        self.k = k\n",
    "\n",
    "    def fit(self, X_train, y_train):\n",
    "        self.X_train = X_train\n",
    "        self.y_train = y_train\n",
    "\n",
    "    def predict(self, X_test):\n",
    "        predictions = []\n",
    "\n",
    "        for x in X_test.values:\n",
    "            distances = [np.linalg.norm(x - x_train) for x_train in self.X_train.values]\n",
    "            k_indexes = np.argsort(distances)[:self.k]\n",
    "\n",
    "            #voting\n",
    "            k_labels = [self.y_train.iloc[i] for i in k_indexes]\n",
    "            result = max(set(k_labels), key = k_labels.count)\n",
    "            predictions.append(result)\n",
    "\n",
    "        return predictions            "
   ]
  },
  {
   "cell_type": "code",
   "execution_count": 60,
   "id": "6c61a332-810c-4ac4-917c-d98d4643d171",
   "metadata": {},
   "outputs": [
    {
     "name": "stdout",
     "output_type": "stream",
     "text": [
      "0.9333333333333333\n"
     ]
    }
   ],
   "source": [
    "knn_without_lib = KNN()\n",
    "\n",
    "knn_without_lib.fit(X_train, y_train)\n",
    "y_pred = knn_without_lib.predict(X_test)\n",
    "print(accuracy(y_test, y_pred))"
   ]
  }
 ],
 "metadata": {
  "kernelspec": {
   "display_name": "Python 3 (ipykernel)",
   "language": "python",
   "name": "python3"
  },
  "language_info": {
   "codemirror_mode": {
    "name": "ipython",
    "version": 3
   },
   "file_extension": ".py",
   "mimetype": "text/x-python",
   "name": "python",
   "nbconvert_exporter": "python",
   "pygments_lexer": "ipython3",
   "version": "3.11.7"
  }
 },
 "nbformat": 4,
 "nbformat_minor": 5
}
