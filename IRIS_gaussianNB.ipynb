{
 "cells": [
  {
   "cell_type": "markdown",
   "id": "c50c861d-b08f-45ce-a4b6-32665cce65e9",
   "metadata": {},
   "source": [
    "GAUSSIAN NAIVE BAYES - library and no library (from scratch) implementation"
   ]
  },
  {
   "cell_type": "code",
   "execution_count": 1,
   "id": "47e22e6d-1a81-4b90-a27f-15487cccc682",
   "metadata": {},
   "outputs": [],
   "source": [
    "import pandas as pd\n",
    "import numpy as np\n",
    "\n",
    "from sklearn.preprocessing import LabelEncoder\n",
    "from sklearn.preprocessing import StandardScaler\n",
    "from sklearn.model_selection import train_test_split\n",
    "from sklearn.naive_bayes import GaussianNB"
   ]
  },
  {
   "cell_type": "code",
   "execution_count": 2,
   "id": "b127065b-6a6e-4f82-8011-fe82c2de53f2",
   "metadata": {},
   "outputs": [
    {
     "data": {
      "text/html": [
       "<div>\n",
       "<style scoped>\n",
       "    .dataframe tbody tr th:only-of-type {\n",
       "        vertical-align: middle;\n",
       "    }\n",
       "\n",
       "    .dataframe tbody tr th {\n",
       "        vertical-align: top;\n",
       "    }\n",
       "\n",
       "    .dataframe thead th {\n",
       "        text-align: right;\n",
       "    }\n",
       "</style>\n",
       "<table border=\"1\" class=\"dataframe\">\n",
       "  <thead>\n",
       "    <tr style=\"text-align: right;\">\n",
       "      <th></th>\n",
       "      <th>sepal.length</th>\n",
       "      <th>sepal.width</th>\n",
       "      <th>petal.length</th>\n",
       "      <th>petal.width</th>\n",
       "      <th>variety</th>\n",
       "    </tr>\n",
       "  </thead>\n",
       "  <tbody>\n",
       "    <tr>\n",
       "      <th>0</th>\n",
       "      <td>5.1</td>\n",
       "      <td>3.5</td>\n",
       "      <td>1.4</td>\n",
       "      <td>0.2</td>\n",
       "      <td>Setosa</td>\n",
       "    </tr>\n",
       "    <tr>\n",
       "      <th>1</th>\n",
       "      <td>4.9</td>\n",
       "      <td>3.0</td>\n",
       "      <td>1.4</td>\n",
       "      <td>0.2</td>\n",
       "      <td>Setosa</td>\n",
       "    </tr>\n",
       "    <tr>\n",
       "      <th>2</th>\n",
       "      <td>4.7</td>\n",
       "      <td>3.2</td>\n",
       "      <td>1.3</td>\n",
       "      <td>0.2</td>\n",
       "      <td>Setosa</td>\n",
       "    </tr>\n",
       "    <tr>\n",
       "      <th>3</th>\n",
       "      <td>4.6</td>\n",
       "      <td>3.1</td>\n",
       "      <td>1.5</td>\n",
       "      <td>0.2</td>\n",
       "      <td>Setosa</td>\n",
       "    </tr>\n",
       "    <tr>\n",
       "      <th>4</th>\n",
       "      <td>5.0</td>\n",
       "      <td>3.6</td>\n",
       "      <td>1.4</td>\n",
       "      <td>0.2</td>\n",
       "      <td>Setosa</td>\n",
       "    </tr>\n",
       "  </tbody>\n",
       "</table>\n",
       "</div>"
      ],
      "text/plain": [
       "   sepal.length  sepal.width  petal.length  petal.width variety\n",
       "0           5.1          3.5           1.4          0.2  Setosa\n",
       "1           4.9          3.0           1.4          0.2  Setosa\n",
       "2           4.7          3.2           1.3          0.2  Setosa\n",
       "3           4.6          3.1           1.5          0.2  Setosa\n",
       "4           5.0          3.6           1.4          0.2  Setosa"
      ]
     },
     "execution_count": 2,
     "metadata": {},
     "output_type": "execute_result"
    }
   ],
   "source": [
    "data = pd.read_csv(r'D:\\studia\\systemy sztucznej inteligencji\\iris.csv')\n",
    "data.head()"
   ]
  },
  {
   "cell_type": "code",
   "execution_count": 3,
   "id": "f90cfb93-bff8-4760-8d8f-a4d4c7c077f2",
   "metadata": {},
   "outputs": [],
   "source": [
    "lab_encoder = LabelEncoder()\n",
    "data['variety encoded'] = lab_encoder.fit_transform(data['variety'])\n",
    "\n",
    "X = data.drop(columns = ['variety encoded', 'variety'])\n",
    "y = data['variety encoded']\n",
    "\n",
    "std_scaler = StandardScaler()\n",
    "X_scaled = std_scaler.fit_transform(X)\n",
    "X_scaled = pd.DataFrame(X_scaled)\n",
    "\n",
    "X_train, X_test, y_train, y_test = train_test_split(X_scaled, y, test_size = 0.25)"
   ]
  },
  {
   "cell_type": "markdown",
   "id": "17664bd4-4f8d-4c45-8d28-13f4ec48ddc3",
   "metadata": {},
   "source": [
    "ACCURACY"
   ]
  },
  {
   "cell_type": "code",
   "execution_count": 4,
   "id": "12d002fa-3e36-4faf-b654-0976caa48d38",
   "metadata": {},
   "outputs": [],
   "source": [
    "def accuracy(y_test, y_pred):\n",
    "    corrected = sum(y_test == y_pred)\n",
    "    return corrected/len(y_test)"
   ]
  },
  {
   "cell_type": "markdown",
   "id": "220048f9-f162-42bd-8428-26ee5f3ab8ff",
   "metadata": {},
   "source": [
    "GAUSSIAN NAIVE BAYES - using library"
   ]
  },
  {
   "cell_type": "code",
   "execution_count": 5,
   "id": "dabd29d1-f0d3-4aab-8c93-43589d0b8483",
   "metadata": {},
   "outputs": [
    {
     "name": "stdout",
     "output_type": "stream",
     "text": [
      "0.9473684210526315\n"
     ]
    }
   ],
   "source": [
    "nb_lib = GaussianNB()\n",
    "\n",
    "nb_lib.fit(X_train, y_train)\n",
    "y_pred = nb_lib.predict(X_test)\n",
    "print(accuracy(y_test, y_pred))"
   ]
  },
  {
   "cell_type": "markdown",
   "id": "1081b7bf-b5e9-4b68-98e4-ddecabec6ec9",
   "metadata": {},
   "source": [
    "GAUSSIAN NAIVE BAYES - from scratch (without library)"
   ]
  },
  {
   "cell_type": "code",
   "execution_count": 6,
   "id": "507df01e-cc70-41e6-8686-6788589f4586",
   "metadata": {},
   "outputs": [],
   "source": [
    "class NB:\n",
    "    def __init__(self):\n",
    "        self.mean = {}\n",
    "        self.var = {}\n",
    "        self.class_prior = {}\n",
    "\n",
    "    def fit(self, X_train, y_train):\n",
    "        self.classes = np.unique(y_train)\n",
    "        for c in self.classes:\n",
    "            X_c = X_train[y_train == c]\n",
    "            self.mean = np.mean(X_c, axis=0)\n",
    "            self.var = np.var(X_c, axis=0)\n",
    "            self.class_prior[c] = len(X_c)/len(X_train)\n",
    "\n",
    "    def calculate_probability(self, x, mean, var):\n",
    "        exponent = np.exp(-(x-mean)**2/(2*var))\n",
    "        return 1/(np.sqrt(2*np.pi*var))*exponent\n",
    "\n",
    "    def calculate_posterior(self, x):\n",
    "        prob_posterior = []\n",
    "        for c in self.classes:\n",
    "            prob = np.log(np.sum(self.calculate_probability(x, self.mean[c], self.var[c])))\n",
    "            prob_posterior.append(np.log(self.class_prior[c]+prob))\n",
    "\n",
    "        return prob_posterior\n",
    "\n",
    "    def predict(self, X_test):\n",
    "        predictions = []\n",
    "\n",
    "        for i in range(len(X_test)):\n",
    "            prob = self.calculate_posterior(X_test.iloc[i])\n",
    "            res = 0\n",
    "            act_prob = prob[res]\n",
    "\n",
    "            for j in range(len(prob)):\n",
    "                if prob[j] > act_prob:\n",
    "                    act_prob = prob[j]\n",
    "                    res = j\n",
    "            predictions.append(res)\n",
    "\n",
    "        return predictions"
   ]
  },
  {
   "cell_type": "code",
   "execution_count": 7,
   "id": "d448cd45-1380-428a-8b05-a0f0586aecfc",
   "metadata": {},
   "outputs": [
    {
     "name": "stdout",
     "output_type": "stream",
     "text": [
      "0.8421052631578947\n"
     ]
    },
    {
     "name": "stderr",
     "output_type": "stream",
     "text": [
      "C:\\Users\\ola86\\AppData\\Local\\Temp\\ipykernel_14372\\3691474720.py:23: RuntimeWarning: invalid value encountered in log\n",
      "  prob_posterior.append(np.log(self.class_prior[c]+prob))\n"
     ]
    }
   ],
   "source": [
    "nb_without_lib = NB()\n",
    "\n",
    "nb_without_lib.fit(X_train, y_train)\n",
    "y_pred = nb_without_lib.predict(X_test)\n",
    "\n",
    "print(accuracy(y_test, y_pred))"
   ]
  },
  {
   "cell_type": "code",
   "execution_count": null,
   "id": "86768648-cf37-4a6b-a0be-0b932e4b9dff",
   "metadata": {},
   "outputs": [],
   "source": []
  }
 ],
 "metadata": {
  "kernelspec": {
   "display_name": "Python 3 (ipykernel)",
   "language": "python",
   "name": "python3"
  },
  "language_info": {
   "codemirror_mode": {
    "name": "ipython",
    "version": 3
   },
   "file_extension": ".py",
   "mimetype": "text/x-python",
   "name": "python",
   "nbconvert_exporter": "python",
   "pygments_lexer": "ipython3",
   "version": "3.11.7"
  }
 },
 "nbformat": 4,
 "nbformat_minor": 5
}
